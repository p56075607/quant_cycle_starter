{
  "cells": [
    {
      "cell_type": "markdown",
      "metadata": {},
      "source": [
        "# Quant Cycle Starter — Notebook\n",
        "這份 Notebook 示範如何呼叫專案函式、檢視狀態與圖表。"
      ]
    },
    {
      "cell_type": "code",
      "execution_count": null,
      "metadata": {},
      "outputs": [],
      "source": [
        "import pandas as pd, yaml\n",
        "from pathlib import Path\n",
        "import matplotlib.pyplot as plt\n",
        "plt.rcParams['font.family'] = 'Noto Serif CJK JP'\n",
        "from src.loader import load_macro, load_prices\n",
        "from src.regime import composite_score, classify\n",
        "\n",
        "BASE = Path('.').resolve()\n",
        "DATA = BASE/'data'/'sample'\n",
        "macros = load_macro(DATA)\n",
        "score = composite_score(macros)\n",
        "regime = classify(score)\n",
        "regime.tail()"
      ]
    }
  ],
  "metadata": {
    "kernelspec": {
      "display_name": "Python 3",
      "language": "python",
      "name": "python3"
    },
    "language_info": {
      "name": "python",
      "version": "3.11"
    }
  },
  "nbformat": 4,
  "nbformat_minor": 5
}